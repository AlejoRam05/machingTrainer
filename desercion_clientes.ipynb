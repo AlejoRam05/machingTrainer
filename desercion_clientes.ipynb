{
 "cells": [
  {
   "cell_type": "markdown",
   "metadata": {},
   "source": [
    "# Requisitos Obligatorios\n",
    "\n",
    "- Modelos Scikit-learn: Usa al menos estos modelos (sí, en serio). Regresión Lineal, Regresión Logística, Árboles de Decisión, Random Forest, Gradient Boosting, SVM, k-NN, Naive Bayes, k-Means, PCA. Prueba múltiples modelos por problema y documenta cuál fue el mejor.\n",
    "- Entrena, prueba y valida cada modelo (imagina que el jefe te está mirando).\n",
    "- Genera visualizaciones que se vean bien y entreguen insights "
   ]
  },
  {
   "cell_type": "code",
   "execution_count": 17,
   "metadata": {},
   "outputs": [],
   "source": [
    "import pandas as pd\n",
    "import numpy as np\n",
    "import matplotlib.pyplot as plt\n",
    "import seaborn as sns"
   ]
  },
  {
   "cell_type": "code",
   "execution_count": 18,
   "metadata": {},
   "outputs": [],
   "source": [
    "from sklearn.model_selection import train_test_split\n",
    "from sklearn.preprocessing import OneHotEncoder, StandardScaler\n",
    "from sklearn.linear_model import LogisticRegression\n",
    "from sklearn.ensemble import RandomForestClassifier\n",
    "from sklearn.metrics import accuracy_score"
   ]
  },
  {
   "cell_type": "code",
   "execution_count": 19,
   "metadata": {},
   "outputs": [],
   "source": [
    "df_bank = pd.read_csv('datos/bank.csv',sep=';')\n",
    "df_bankfull = pd.read_csv('datos/bank-full.csv', sep=';')"
   ]
  },
  {
   "cell_type": "code",
   "execution_count": 20,
   "metadata": {},
   "outputs": [
    {
     "data": {
      "text/html": [
       "<div>\n",
       "<style scoped>\n",
       "    .dataframe tbody tr th:only-of-type {\n",
       "        vertical-align: middle;\n",
       "    }\n",
       "\n",
       "    .dataframe tbody tr th {\n",
       "        vertical-align: top;\n",
       "    }\n",
       "\n",
       "    .dataframe thead th {\n",
       "        text-align: right;\n",
       "    }\n",
       "</style>\n",
       "<table border=\"1\" class=\"dataframe\">\n",
       "  <thead>\n",
       "    <tr style=\"text-align: right;\">\n",
       "      <th></th>\n",
       "      <th>age</th>\n",
       "      <th>job</th>\n",
       "      <th>marital</th>\n",
       "      <th>education</th>\n",
       "      <th>default</th>\n",
       "      <th>balance</th>\n",
       "      <th>housing</th>\n",
       "      <th>loan</th>\n",
       "      <th>contact</th>\n",
       "      <th>day</th>\n",
       "      <th>month</th>\n",
       "      <th>duration</th>\n",
       "      <th>campaign</th>\n",
       "      <th>pdays</th>\n",
       "      <th>previous</th>\n",
       "      <th>poutcome</th>\n",
       "      <th>y</th>\n",
       "    </tr>\n",
       "  </thead>\n",
       "  <tbody>\n",
       "    <tr>\n",
       "      <th>0</th>\n",
       "      <td>30</td>\n",
       "      <td>unemployed</td>\n",
       "      <td>married</td>\n",
       "      <td>primary</td>\n",
       "      <td>no</td>\n",
       "      <td>1787</td>\n",
       "      <td>no</td>\n",
       "      <td>no</td>\n",
       "      <td>cellular</td>\n",
       "      <td>19</td>\n",
       "      <td>oct</td>\n",
       "      <td>79</td>\n",
       "      <td>1</td>\n",
       "      <td>-1</td>\n",
       "      <td>0</td>\n",
       "      <td>unknown</td>\n",
       "      <td>no</td>\n",
       "    </tr>\n",
       "    <tr>\n",
       "      <th>1</th>\n",
       "      <td>33</td>\n",
       "      <td>services</td>\n",
       "      <td>married</td>\n",
       "      <td>secondary</td>\n",
       "      <td>no</td>\n",
       "      <td>4789</td>\n",
       "      <td>yes</td>\n",
       "      <td>yes</td>\n",
       "      <td>cellular</td>\n",
       "      <td>11</td>\n",
       "      <td>may</td>\n",
       "      <td>220</td>\n",
       "      <td>1</td>\n",
       "      <td>339</td>\n",
       "      <td>4</td>\n",
       "      <td>failure</td>\n",
       "      <td>no</td>\n",
       "    </tr>\n",
       "    <tr>\n",
       "      <th>2</th>\n",
       "      <td>35</td>\n",
       "      <td>management</td>\n",
       "      <td>single</td>\n",
       "      <td>tertiary</td>\n",
       "      <td>no</td>\n",
       "      <td>1350</td>\n",
       "      <td>yes</td>\n",
       "      <td>no</td>\n",
       "      <td>cellular</td>\n",
       "      <td>16</td>\n",
       "      <td>apr</td>\n",
       "      <td>185</td>\n",
       "      <td>1</td>\n",
       "      <td>330</td>\n",
       "      <td>1</td>\n",
       "      <td>failure</td>\n",
       "      <td>no</td>\n",
       "    </tr>\n",
       "    <tr>\n",
       "      <th>3</th>\n",
       "      <td>30</td>\n",
       "      <td>management</td>\n",
       "      <td>married</td>\n",
       "      <td>tertiary</td>\n",
       "      <td>no</td>\n",
       "      <td>1476</td>\n",
       "      <td>yes</td>\n",
       "      <td>yes</td>\n",
       "      <td>unknown</td>\n",
       "      <td>3</td>\n",
       "      <td>jun</td>\n",
       "      <td>199</td>\n",
       "      <td>4</td>\n",
       "      <td>-1</td>\n",
       "      <td>0</td>\n",
       "      <td>unknown</td>\n",
       "      <td>no</td>\n",
       "    </tr>\n",
       "    <tr>\n",
       "      <th>4</th>\n",
       "      <td>59</td>\n",
       "      <td>blue-collar</td>\n",
       "      <td>married</td>\n",
       "      <td>secondary</td>\n",
       "      <td>no</td>\n",
       "      <td>0</td>\n",
       "      <td>yes</td>\n",
       "      <td>no</td>\n",
       "      <td>unknown</td>\n",
       "      <td>5</td>\n",
       "      <td>may</td>\n",
       "      <td>226</td>\n",
       "      <td>1</td>\n",
       "      <td>-1</td>\n",
       "      <td>0</td>\n",
       "      <td>unknown</td>\n",
       "      <td>no</td>\n",
       "    </tr>\n",
       "  </tbody>\n",
       "</table>\n",
       "</div>"
      ],
      "text/plain": [
       "   age          job  marital  education default  balance housing loan  \\\n",
       "0   30   unemployed  married    primary      no     1787      no   no   \n",
       "1   33     services  married  secondary      no     4789     yes  yes   \n",
       "2   35   management   single   tertiary      no     1350     yes   no   \n",
       "3   30   management  married   tertiary      no     1476     yes  yes   \n",
       "4   59  blue-collar  married  secondary      no        0     yes   no   \n",
       "\n",
       "    contact  day month  duration  campaign  pdays  previous poutcome   y  \n",
       "0  cellular   19   oct        79         1     -1         0  unknown  no  \n",
       "1  cellular   11   may       220         1    339         4  failure  no  \n",
       "2  cellular   16   apr       185         1    330         1  failure  no  \n",
       "3   unknown    3   jun       199         4     -1         0  unknown  no  \n",
       "4   unknown    5   may       226         1     -1         0  unknown  no  "
      ]
     },
     "execution_count": 20,
     "metadata": {},
     "output_type": "execute_result"
    }
   ],
   "source": [
    "df_bank.head()"
   ]
  },
  {
   "cell_type": "code",
   "execution_count": 21,
   "metadata": {},
   "outputs": [
    {
     "name": "stderr",
     "output_type": "stream",
     "text": [
      "/tmp/ipykernel_5566/1065673040.py:3: FutureWarning: Downcasting behavior in `replace` is deprecated and will be removed in a future version. To retain the old behavior, explicitly call `result.infer_objects(copy=False)`. To opt-in to the future behavior, set `pd.set_option('future.no_silent_downcasting', True)`\n",
      "  df_bank['default']=df_bank['default'].replace({'yes': 1, 'no':0})\n",
      "/tmp/ipykernel_5566/1065673040.py:4: FutureWarning: Downcasting behavior in `replace` is deprecated and will be removed in a future version. To retain the old behavior, explicitly call `result.infer_objects(copy=False)`. To opt-in to the future behavior, set `pd.set_option('future.no_silent_downcasting', True)`\n",
      "  df_bank['loan']=df_bank['loan'].replace({'yes': 1, 'no':0})\n",
      "/tmp/ipykernel_5566/1065673040.py:5: FutureWarning: Downcasting behavior in `replace` is deprecated and will be removed in a future version. To retain the old behavior, explicitly call `result.infer_objects(copy=False)`. To opt-in to the future behavior, set `pd.set_option('future.no_silent_downcasting', True)`\n",
      "  df_bank['housing']=df_bank['housing'].replace({'yes': 1, 'no':0})\n",
      "/tmp/ipykernel_5566/1065673040.py:6: FutureWarning: Downcasting behavior in `replace` is deprecated and will be removed in a future version. To retain the old behavior, explicitly call `result.infer_objects(copy=False)`. To opt-in to the future behavior, set `pd.set_option('future.no_silent_downcasting', True)`\n",
      "  df_bank['y']=df_bank['y'].replace({'yes': 1, 'no':0})\n"
     ]
    }
   ],
   "source": [
    "# Algoritmo de regresion logistica.\n",
    "# Necesitamos segun la convertir las columnas a valores binarios, lo cual algunos ya lo son.\n",
    "df_bank['default']=df_bank['default'].replace({'yes': 1, 'no':0})\n",
    "df_bank['loan']=df_bank['loan'].replace({'yes': 1, 'no':0})\n",
    "df_bank['housing']=df_bank['housing'].replace({'yes': 1, 'no':0})\n",
    "df_bank['y']=df_bank['y'].replace({'yes': 1, 'no':0})\n",
    "# Esto lo hacemos para mejor implementacion del modelo."
   ]
  },
  {
   "cell_type": "code",
   "execution_count": 22,
   "metadata": {},
   "outputs": [
    {
     "name": "stderr",
     "output_type": "stream",
     "text": [
      "/tmp/ipykernel_5566/2987865632.py:3: FutureWarning: Downcasting behavior in `replace` is deprecated and will be removed in a future version. To retain the old behavior, explicitly call `result.infer_objects(copy=False)`. To opt-in to the future behavior, set `pd.set_option('future.no_silent_downcasting', True)`\n",
      "  df_bankfull['default']=df_bankfull['default'].replace({'yes': 1, 'no':0})\n",
      "/tmp/ipykernel_5566/2987865632.py:4: FutureWarning: Downcasting behavior in `replace` is deprecated and will be removed in a future version. To retain the old behavior, explicitly call `result.infer_objects(copy=False)`. To opt-in to the future behavior, set `pd.set_option('future.no_silent_downcasting', True)`\n",
      "  df_bankfull['loan']=df_bankfull['loan'].replace({'yes': 1, 'no':0})\n",
      "/tmp/ipykernel_5566/2987865632.py:5: FutureWarning: Downcasting behavior in `replace` is deprecated and will be removed in a future version. To retain the old behavior, explicitly call `result.infer_objects(copy=False)`. To opt-in to the future behavior, set `pd.set_option('future.no_silent_downcasting', True)`\n",
      "  df_bankfull['housing']=df_bankfull['housing'].replace({'yes': 1, 'no':0})\n",
      "/tmp/ipykernel_5566/2987865632.py:6: FutureWarning: Downcasting behavior in `replace` is deprecated and will be removed in a future version. To retain the old behavior, explicitly call `result.infer_objects(copy=False)`. To opt-in to the future behavior, set `pd.set_option('future.no_silent_downcasting', True)`\n",
      "  df_bankfull['y']=df_bankfull['y'].replace({'yes': 1, 'no':0})\n"
     ]
    }
   ],
   "source": [
    "# Algoritmo de regresion logistica.\n",
    "# Necesitamos segun la convertir las columnas a valores binarios, lo cual algunos ya lo son.\n",
    "df_bankfull['default']=df_bankfull['default'].replace({'yes': 1, 'no':0})\n",
    "df_bankfull['loan']=df_bankfull['loan'].replace({'yes': 1, 'no':0})\n",
    "df_bankfull['housing']=df_bankfull['housing'].replace({'yes': 1, 'no':0})\n",
    "df_bankfull['y']=df_bankfull['y'].replace({'yes': 1, 'no':0})\n",
    "# Esto lo hacemos para mejor implementacion del modelo."
   ]
  },
  {
   "cell_type": "code",
   "execution_count": 23,
   "metadata": {},
   "outputs": [],
   "source": [
    "df_modelo = df_bankfull.copy()\n",
    "# Separar características (X) y variable objetivo (y)\n",
    "X = df_modelo.drop(columns=[\"y\"])\n",
    "y = df_modelo[\"y\"]"
   ]
  },
  {
   "cell_type": "code",
   "execution_count": 24,
   "metadata": {},
   "outputs": [],
   "source": [
    "# Identificar columnas categóricas y numéricas\n",
    "categorical_features = X.select_dtypes(include=[\"object\"]).columns\n",
    "numerical_features = X.select_dtypes(include=[\"int64\", \"float64\"]).columns"
   ]
  },
  {
   "cell_type": "code",
   "execution_count": 25,
   "metadata": {},
   "outputs": [],
   "source": [
    "# Codificar variables categóricas\n",
    "encoder = OneHotEncoder(drop='first', sparse_output=False)\n",
    "X_categorical = encoder.fit_transform(X[categorical_features])\n",
    "X_categorical_df = pd.DataFrame(X_categorical, columns=encoder.get_feature_names_out(categorical_features))"
   ]
  },
  {
   "cell_type": "code",
   "execution_count": 26,
   "metadata": {},
   "outputs": [],
   "source": [
    "# Normalizar variables numéricas\n",
    "scaler = StandardScaler()\n",
    "X_numerical = scaler.fit_transform(X[numerical_features])\n",
    "X_numerical_df = pd.DataFrame(X_numerical, columns=numerical_features)"
   ]
  },
  {
   "cell_type": "code",
   "execution_count": 27,
   "metadata": {},
   "outputs": [],
   "source": [
    "# Combinar datos procesados\n",
    "X_processed = pd.concat([X_numerical_df, X_categorical_df], axis=1)"
   ]
  },
  {
   "cell_type": "code",
   "execution_count": 28,
   "metadata": {},
   "outputs": [],
   "source": [
    "X_train, X_test, y_train, y_test = train_test_split(X_processed, y, test_size=0.2, random_state=42)"
   ]
  },
  {
   "cell_type": "code",
   "execution_count": 29,
   "metadata": {},
   "outputs": [],
   "source": [
    "# Inicializar y entrenar modelos\n",
    "log_reg = LogisticRegression()\n",
    "rf_clf = RandomForestClassifier(n_estimators=100, random_state=42)"
   ]
  },
  {
   "cell_type": "code",
   "execution_count": 30,
   "metadata": {},
   "outputs": [
    {
     "name": "stdout",
     "output_type": "stream",
     "text": [
      "Exactitud de Regresión Logística: 0.8989\n",
      "Exactitud de Random Forest: 0.9046\n"
     ]
    }
   ],
   "source": [
    "log_reg.fit(X_train, y_train)\n",
    "rf_clf.fit(X_train, y_train)\n",
    "\n",
    "# Generar predicciones\n",
    "y_pred_log_reg = log_reg.predict(X_test)\n",
    "y_pred_rf = rf_clf.predict(X_test)\n",
    "\n",
    "# Evaluar modelos\n",
    "accuracy_log_reg = accuracy_score(y_test, y_pred_log_reg)\n",
    "accuracy_rf = accuracy_score(y_test, y_pred_rf)\n",
    "\n",
    "print(f\"Exactitud de Regresión Logística: {accuracy_log_reg:.4f}\")\n",
    "print(f\"Exactitud de Random Forest: {accuracy_rf:.4f}\")"
   ]
  },
  {
   "cell_type": "code",
   "execution_count": 31,
   "metadata": {},
   "outputs": [
    {
     "data": {
      "image/png": "[encoded data removed]",
      "text/plain": [
       "<Figure size 1200x500 with 4 Axes>"
      ]
     },
     "metadata": {},
     "output_type": "display_data"
    }
   ],
   "source": [
    "\n",
    "from sklearn.metrics import confusion_matrix\n",
    "\n",
    "# Crear matriz de confusión para cada modelo\n",
    "fig, axes = plt.subplots(1, 2, figsize=(12, 5))\n",
    "\n",
    "models = {\"Regresión Logística\": y_pred_log_reg, \"Random Forest\": y_pred_rf}\n",
    "\n",
    "for ax, (model_name, y_pred) in zip(axes, models.items()):\n",
    "    cm = confusion_matrix(y_test, y_pred)\n",
    "    sns.heatmap(cm, annot=True, fmt=\"d\", cmap=\"Blues\", xticklabels=[\"No Deserta\", \"Deserta\"],\n",
    "                yticklabels=[\"No Deserta\", \"Deserta\"], ax=ax)\n",
    "    ax.set_title(f\"Matriz de Confusión - {model_name}\")\n",
    "    ax.set_xlabel(\"Predicho\")\n",
    "    ax.set_ylabel(\"Real\")\n",
    "\n",
    "plt.tight_layout()\n",
    "plt.show()\n"
   ]
  },
  {
   "cell_type": "markdown",
   "metadata": {},
   "source": [
    "Regresión Logística tiene una exactitud de 0.9017 (90.17%), lo que significa que aproximadamente el 90.17% de los clientes fueron clasificados correctamente como desertores o no desertores.  \n",
    "Random Forest tiene una exactitud de 0.9006 (90.06%), es decir, su precisión es 90.06%.  \n",
    "🔍 ¿Cómo interpretar estos números?\n",
    "Ambos modelos tienen un desempeño muy similar (diferencia de solo 0.11%).\n",
    "La Regresión Logística tuvo una ligeramente mejor precisión que el Random Forest en este caso.\n",
    "Esto con la version pequeña del dataset:\n",
    "- ![imagen1](imagenes/imagen1.png)\n",
    "\n",
    "Veamos como se comporto con un volumen de datos mayor:  \n",
    "\n",
    "Comparación de Modelos:\n",
    "Regresión Logística:\n",
    "\n",
    "Verdaderos Negativos (No Deserta): 7757\n",
    "- Falsos Positivos: 195\n",
    "- Falsos Negativos: 719\n",
    "- Verdaderos Positivos (Deserta): 372\n",
    "\n",
    "Random Forest:\n",
    "\n",
    "Verdaderos Negativos (No Deserta): 7749\n",
    "- Falsos Positivos: 203\n",
    "- Falsos Negativos: 660\n",
    "- Verdaderos Positivos (Deserta): 431\n",
    "\n",
    "\n",
    "Observaciones clave:\n",
    "\n",
    "\n",
    "Ambos modelos muestran un comportamiento similar en general.  \n",
    "- Random Forest tiene un mejor rendimiento en detectar casos positivos (deserción) con 431 vs 372 de la Regresión Logística\n",
    "- La Regresión Logística tiene ligeramente menos falsos positivos (195 vs 203)\n",
    "- Random Forest tiene menos falsos negativos (660 vs 719)\n",
    "\n",
    "- ![imagen2](imagenes/imagen2.png)\n"
   ]
  }
 ],
 "metadata": {
  "kernelspec": {
   "display_name": ".venv",
   "language": "python",
   "name": "python3"
  },
  "language_info": {
   "codemirror_mode": {
    "name": "ipython",
    "version": 3
   },
   "file_extension": ".py",
   "mimetype": "text/x-python",
   "name": "python",
   "nbconvert_exporter": "python",
   "pygments_lexer": "ipython3",
   "version": "3.12.3"
  }
 },
 "nbformat": 4,
 "nbformat_minor": 2
}
